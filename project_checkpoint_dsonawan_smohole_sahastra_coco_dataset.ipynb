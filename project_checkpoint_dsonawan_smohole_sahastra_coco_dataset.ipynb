{
 "cells": [
  {
   "cell_type": "code",
   "execution_count": null,
   "metadata": {},
   "outputs": [
    {
     "name": "stderr",
     "output_type": "stream",
     "text": [
      "c:\\Users\\DARSHAN SONAWANE\\AppData\\Local\\Programs\\Python\\Python311\\Lib\\site-packages\\tqdm\\auto.py:21: TqdmWarning: IProgress not found. Please update jupyter and ipywidgets. See https://ipywidgets.readthedocs.io/en/stable/user_install.html\n",
      "  from .autonotebook import tqdm as notebook_tqdm\n"
     ]
    },
    {
     "name": "stdout",
     "output_type": "stream",
     "text": [
      "loading annotations into memory...\n",
      "Done (t=0.72s)\n",
      "creating index...\n",
      "index created!\n",
      "Number of samples: 118287\n",
      "Image tensor shape: torch.Size([3, 64, 64])\n",
      "Captions: ['Closeup of bins of food that include broccoli and bread.', 'A meal is presented in brightly colored plastic trays.', 'there are containers filled with different kinds of foods', 'Colorful dishes holding meat, vegetables, fruit, and bread.', 'A bunch of trays that have different food.']\n"
     ]
    }
   ],
   "source": [
    "import torch\n",
    "import torch.nn as nn\n",
    "import torch.nn.functional as F\n",
    "import torch.optim as optim\n",
    "from torch.utils.data import DataLoader\n",
    "from torchvision import datasets, transforms\n",
    "from transformers import CLIPTokenizer, CLIPModel\n",
    "\n",
    "device = torch.device(\"cuda\" if torch.cuda.is_available() else \"cpu\")\n",
    "\n",
    "def collate_fn(batch):\n",
    "    images = []\n",
    "    captions = []\n",
    "    for img, caption_list in batch:\n",
    "        images.append(img)\n",
    "        # Pick the first caption from the list\n",
    "        captions.append(caption_list[0])\n",
    "    images = torch.stack(images, dim=0)\n",
    "    return images, captions\n",
    "\n",
    "\n",
    "image_dir = \"train2017/train2017\" \n",
    "ann_file = \"annotations_trainval2017/annotations/captions_train2017.json\" \n",
    "\n",
    "transform = transforms.Compose([\n",
    "    transforms.Resize(64),\n",
    "    transforms.CenterCrop(64),\n",
    "    transforms.ToTensor(),\n",
    "    transforms.Normalize((0.5, 0.5, 0.5), (0.5, 0.5, 0.5))\n",
    "])\n",
    "coco_dataset = datasets.CocoCaptions(root=image_dir, annFile=ann_file, transform=transform)\n",
    "\n",
    "print(f\"Number of samples: {len(coco_dataset)}\")\n",
    "img, captions = coco_dataset[0]\n",
    "print(\"Image tensor shape:\", img.shape)\n",
    "print(\"Captions:\", captions)"
   ]
  },
  {
   "cell_type": "code",
   "execution_count": null,
   "metadata": {},
   "outputs": [
    {
     "name": "stderr",
     "output_type": "stream",
     "text": [
      "c:\\Users\\DARSHAN SONAWANE\\AppData\\Local\\Programs\\Python\\Python311\\Lib\\site-packages\\huggingface_hub\\file_download.py:142: UserWarning: `huggingface_hub` cache-system uses symlinks by default to efficiently store duplicated files but your machine does not support them in C:\\Users\\DARSHAN SONAWANE\\.cache\\huggingface\\hub\\models--openai--clip-vit-base-patch32. Caching files will still work but in a degraded version that might require more space on your disk. This warning can be disabled by setting the `HF_HUB_DISABLE_SYMLINKS_WARNING` environment variable. For more details, see https://huggingface.co/docs/huggingface_hub/how-to-cache#limitations.\n",
      "To support symlinks on Windows, you either need to activate Developer Mode or to run Python as an administrator. In order to activate developer mode, see this article: https://docs.microsoft.com/en-us/windows/apps/get-started/enable-your-device-for-development\n",
      "  warnings.warn(message)\n"
     ]
    },
    {
     "name": "stdout",
     "output_type": "stream",
     "text": [
      "CLIP text embedding shape: torch.Size([5, 512])\n"
     ]
    }
   ],
   "source": [
    "from transformers import CLIPTokenizer, CLIPModel\n",
    "\n",
    "tokenizer = CLIPTokenizer.from_pretrained(\"openai/clip-vit-base-patch32\")\n",
    "clip_model = CLIPModel.from_pretrained(\"openai/clip-vit-base-patch32\").to(device)\n",
    "clip_model.eval()\n",
    "\n",
    "caption = \"A cat sitting on a wooden bench.\"\n",
    "inputs = tokenizer(captions, return_tensors=\"pt\", padding=True, truncation=True)\n",
    "inputs = {k: v.to(device) for k, v in inputs.items()} \n",
    "with torch.no_grad():\n",
    "    text_embeddings = clip_model.get_text_features(**inputs)\n",
    "print(\"CLIP text embedding shape:\", text_embeddings.shape)"
   ]
  },
  {
   "cell_type": "code",
   "execution_count": 3,
   "metadata": {},
   "outputs": [],
   "source": [
    "import torch\n",
    "import torch.nn as nn\n",
    "import torch.nn.functional as F\n",
    "\n",
    "class Generator(nn.Module):\n",
    "    def __init__(self, noise_dim=100, text_dim=512, base_channels=64):\n",
    "        super(Generator, self).__init__()\n",
    "        self.noise_dim = noise_dim\n",
    "        self.text_dim = text_dim\n",
    "        self.base_channels = base_channels\n",
    "        self.fc = nn.Linear(noise_dim + text_dim, base_channels * 8 * 4 * 4)\n",
    "        self.bn_fc = nn.BatchNorm1d(base_channels * 8 * 4 * 4)\n",
    "        self.deconv1 = nn.ConvTranspose2d(base_channels * 8, base_channels * 4, kernel_size=4, stride=2, padding=1)\n",
    "        self.bn1 = nn.BatchNorm2d(base_channels * 4)\n",
    "        self.deconv2 = nn.ConvTranspose2d(base_channels * 4, base_channels * 2, kernel_size=4, stride=2, padding=1)\n",
    "        self.bn2 = nn.BatchNorm2d(base_channels * 2)\n",
    "        self.deconv3 = nn.ConvTranspose2d(base_channels * 2, base_channels, kernel_size=4, stride=2, padding=1)\n",
    "        self.bn3 = nn.BatchNorm2d(base_channels)\n",
    "        self.deconv4 = nn.ConvTranspose2d(base_channels, 3, kernel_size=4, stride=2, padding=1)\n",
    "\n",
    "    def forward(self, noise, text_emb):\n",
    "        x = torch.cat([noise, text_emb], dim=1)\n",
    "        x = self.fc(x)\n",
    "        x = self.bn_fc(x)\n",
    "        x = x.view(x.size(0), self.base_channels * 8, 4, 4)\n",
    "        x = F.relu(self.bn1(self.deconv1(x)), inplace=True)\n",
    "        x = F.relu(self.bn2(self.deconv2(x)), inplace=True)\n",
    "        x = F.relu(self.bn3(self.deconv3(x)), inplace=True)\n",
    "        x = torch.tanh(self.deconv4(x))\n",
    "        return x"
   ]
  },
  {
   "cell_type": "code",
   "execution_count": 4,
   "metadata": {},
   "outputs": [],
   "source": [
    "class Discriminator(nn.Module):\n",
    "    def __init__(self, text_dim=512, base_channels=64):\n",
    "        super(Discriminator, self).__init__()\n",
    "        self.conv1 = nn.Conv2d(3, base_channels, kernel_size=4, stride=2, padding=1)\n",
    "        self.conv2 = nn.Conv2d(base_channels, base_channels*2, kernel_size=4, stride=2, padding=1)\n",
    "        self.bn2 = nn.BatchNorm2d(base_channels*2)\n",
    "        self.conv3 = nn.Conv2d(base_channels*2, base_channels*4, kernel_size=4, stride=2, padding=1)\n",
    "        self.bn3 = nn.BatchNorm2d(base_channels*4)\n",
    "        self.conv4 = nn.Conv2d(base_channels*4, base_channels*8, kernel_size=4, stride=2, padding=1)\n",
    "        self.bn4 = nn.BatchNorm2d(base_channels*8)\n",
    "        self.fc_img = nn.Linear(base_channels*8*4*4, base_channels*8)\n",
    "        self.fc_text = nn.Linear(text_dim, base_channels*8)\n",
    "        self.fc_final = nn.Linear(base_channels*8*2, 1)\n",
    "        \n",
    "    def forward(self, image, text_emb):\n",
    "        x = F.leaky_relu(self.conv1(image), 0.2, inplace=True)\n",
    "        x = F.leaky_relu(self.bn2(self.conv2(x)), 0.2, inplace=True)\n",
    "        x = F.leaky_relu(self.bn3(self.conv3(x)), 0.2, inplace=True)\n",
    "        x = F.leaky_relu(self.bn4(self.conv4(x)), 0.2, inplace=True)\n",
    "        x = x.view(x.size(0), -1)\n",
    "        img_feat = F.leaky_relu(self.fc_img(x), 0.2, inplace=True)\n",
    "        text_feat = F.leaky_relu(self.fc_text(text_emb), 0.2, inplace=True)\n",
    "        combined = torch.cat([img_feat, text_feat], dim=1)\n",
    "        out = self.fc_final(combined)\n",
    "        return out"
   ]
  },
  {
   "cell_type": "code",
   "execution_count": null,
   "metadata": {},
   "outputs": [
    {
     "name": "stdout",
     "output_type": "stream",
     "text": [
      "Epoch [1/5]  D_loss: 0.7890  G_loss: 2.8134\n",
      "Epoch [2/5]  D_loss: 0.5241  G_loss: 3.2393\n",
      "Epoch [3/5]  D_loss: 0.6229  G_loss: 4.1191\n",
      "Epoch [4/5]  D_loss: 0.4863  G_loss: 4.7901\n",
      "Epoch [5/5]  D_loss: 0.6596  G_loss: 4.4803\n"
     ]
    }
   ],
   "source": [
    "import torch.optim as optim\n",
    "\n",
    "device = torch.device(\"cuda\" if torch.cuda.is_available() else \"cpu\")\n",
    "noise_dim = 100\n",
    "text_emb_dim = 512\n",
    "generator = Generator(noise_dim=noise_dim, text_dim=text_emb_dim).to(device)\n",
    "discriminator = Discriminator(text_dim=text_emb_dim).to(device)\n",
    "\n",
    "\n",
    "lr = 2e-4\n",
    "beta1 = 0.5\n",
    "g_optimizer = optim.Adam(generator.parameters(), lr=lr, betas=(beta1, 0.999))\n",
    "d_optimizer = optim.Adam(discriminator.parameters(), lr=lr, betas=(beta1, 0.999))\n",
    "\n",
    "criterion = nn.BCEWithLogitsLoss()\n",
    "\n",
    "generator.train()\n",
    "discriminator.train()\n",
    "clip_model.eval() \n",
    "\n",
    "num_epochs = 5\n",
    "batch_size = 64\n",
    "dataloader = DataLoader(coco_dataset, batch_size=batch_size, shuffle=True, drop_last=True, collate_fn=collate_fn)\n",
    "\n",
    "for epoch in range(num_epochs):\n",
    "    for i, (real_images, captions) in enumerate(dataloader):\n",
    "        real_images = real_images.to(device)\n",
    "        inputs = tokenizer(captions, return_tensors=\"pt\", padding=True, truncation=True)\n",
    "        inputs = {k: v.to(device) for k, v in inputs.items()}\n",
    "        with torch.no_grad():\n",
    "            text_embeddings = clip_model.get_text_features(**inputs)\n",
    "            \n",
    "        real_labels = torch.full((real_images.size(0), 1), 0.9, device=device)\n",
    "        fake_labels = torch.zeros(real_images.size(0), 1, device=device)  \n",
    "\n",
    "        real_output = discriminator(real_images, text_embeddings)\n",
    "        d_loss_real = criterion(real_output, real_labels)\n",
    "\n",
    "        noise = torch.randn(real_images.size(0), noise_dim, device=device)\n",
    "        fake_images = generator(noise, text_embeddings)\n",
    "\n",
    "        fake_output = discriminator(fake_images.detach(), text_embeddings)\n",
    "        d_loss_fake = criterion(fake_output, fake_labels)\n",
    "\n",
    "        d_loss = d_loss_real + d_loss_fake\n",
    "\n",
    "        d_optimizer.zero_grad()\n",
    "        d_loss.backward()\n",
    "        d_optimizer.step()\n",
    "\n",
    "        target_for_g = torch.ones(real_images.size(0), 1, device=device)\n",
    "\n",
    "        fake_images = generator(noise, text_embeddings)\n",
    "        output = discriminator(fake_images, text_embeddings)\n",
    "        g_loss = criterion(output, target_for_g)\n",
    "\n",
    "        g_optimizer.zero_grad()\n",
    "        g_loss.backward()\n",
    "        g_optimizer.step()\n",
    "\n",
    "    print(f\"Epoch [{epoch+1}/{num_epochs}]  D_loss: {d_loss.item():.4f}  G_loss: {g_loss.item():.4f}\")\n"
   ]
  },
  {
   "cell_type": "code",
   "execution_count": null,
   "metadata": {},
   "outputs": [
    {
     "name": "stdout",
     "output_type": "stream",
     "text": [
      "Image saved as generated_image.png\n"
     ]
    },
    {
     "data": {
      "image/png": "[encoded data removed]",
      "text/plain": [
       "<Figure size 600x600 with 1 Axes>"
      ]
     },
     "metadata": {},
     "output_type": "display_data"
    }
   ],
   "source": [
    "import matplotlib.pyplot as plt\n",
    "import numpy as np\n",
    "from torchvision.utils import save_image\n",
    "\n",
    "generator.eval()\n",
    "\n",
    "prompt = \"clock\"\n",
    "\n",
    "prompt_inputs = tokenizer(prompt, return_tensors=\"pt\", padding=True, truncation=True)\n",
    "prompt_inputs = {k: v.to(device) for k, v in prompt_inputs.items()}\n",
    "with torch.no_grad():\n",
    "    prompt_embedding = clip_model.get_text_features(**prompt_inputs)\n",
    "\n",
    "noise = torch.randn(1, noise_dim, device=device)\n",
    "\n",
    "with torch.no_grad():\n",
    "    generated_img = generator(noise, prompt_embedding)\n",
    "\n",
    "generated_img = (generated_img + 1) / 2.0\n",
    "\n",
    "save_image(generated_img, \"generated_image.png\")\n",
    "print(\"Image saved as generated_image.png\")\n",
    "\n",
    "np_img = generated_img.squeeze(0).permute(1, 2, 0).cpu().numpy()\n",
    "\n",
    "plt.figure(figsize=(6,6))\n",
    "plt.imshow(np.clip(np_img, 0, 1))\n",
    "plt.axis(\"off\")\n",
    "plt.title(prompt)\n",
    "plt.show()\n"
   ]
  },
  {
   "cell_type": "code",
   "execution_count": null,
   "metadata": {},
   "outputs": [],
   "source": []
  }
 ],
 "metadata": {
  "kernelspec": {
   "display_name": "Python 3",
   "language": "python",
   "name": "python3"
  },
  "language_info": {
   "codemirror_mode": {
    "name": "ipython",
    "version": 3
   },
   "file_extension": ".py",
   "mimetype": "text/x-python",
   "name": "python",
   "nbconvert_exporter": "python",
   "pygments_lexer": "ipython3",
   "version": "3.11.0"
  }
 },
 "nbformat": 4,
 "nbformat_minor": 2
}
