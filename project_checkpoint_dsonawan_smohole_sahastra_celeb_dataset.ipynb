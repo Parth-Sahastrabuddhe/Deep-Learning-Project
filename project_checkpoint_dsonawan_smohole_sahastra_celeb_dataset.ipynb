{
 "cells": [
  {
   "cell_type": "code",
   "execution_count": 1,
   "metadata": {},
   "outputs": [],
   "source": [
    "import os\n",
    "import torch\n",
    "import torch.nn as nn\n",
    "from torch.utils.data import Dataset, DataLoader\n",
    "from torchvision import transforms\n",
    "from torchvision.utils import make_grid\n",
    "from PIL import Image\n",
    "import pandas as pd\n",
    "import matplotlib.pyplot as plt\n",
    "from tqdm import tqdm\n",
    "from transformers import CLIPTokenizer, CLIPTextModel"
   ]
  },
  {
   "cell_type": "code",
   "execution_count": null,
   "metadata": {},
   "outputs": [],
   "source": [
    "def attributes_to_prompt(attr_row):\n",
    "    prompt = []\n",
    "    gender = attr_row.get('Male', None)\n",
    "    if gender is None:\n",
    "        prompt.append(\"person\")\n",
    "    elif gender == 1:\n",
    "        prompt.append(\"man\")\n",
    "    else:\n",
    "        prompt.append(\"woman\")\n",
    "        \n",
    "    for attr, val in attr_row.items():\n",
    "        if attr != 'Male' and val == 1:\n",
    "            prompt.append(attr.replace(\"_\", \" \").lower())\n",
    "    return \" \".join(prompt)"
   ]
  },
  {
   "cell_type": "code",
   "execution_count": null,
   "metadata": {},
   "outputs": [],
   "source": [
    "class CelebAText2ImageDataset(Dataset):\n",
    "    def __init__(self, img_dir, attr_path, split_path, split='train', transform=None):\n",
    "        self.img_dir = img_dir\n",
    "        self.attrs = pd.read_csv(attr_path, skiprows=1)\n",
    "        self.attrs.columns = self.attrs.columns.str.strip()\n",
    "        self.attrs.index = self.attrs.iloc[:, 0].astype(str).str.strip()\n",
    "        self.attrs = self.attrs.drop(columns=self.attrs.columns[0])\n",
    "        self.attrs = self.attrs.astype(int)\n",
    "        self.splits = pd.read_csv(split_path)\n",
    "        self.transform = transform\n",
    "\n",
    "        if split == 'train':\n",
    "            self.image_ids = self.splits[self.splits['partition'] == 0]['image_id']\n",
    "        elif split == 'val':\n",
    "            self.image_ids = self.splits[self.splits['partition'] == 1]['image_id']\n",
    "        else:\n",
    "            self.image_ids = self.splits[self.splits['partition'] == 2]['image_id']\n",
    "\n",
    "        self.image_ids = self.image_ids[self.image_ids.isin(self.attrs.index)]\n",
    "\n",
    "    def __len__(self):\n",
    "        return len(self.image_ids)\n",
    "\n",
    "    def __getitem__(self, idx):\n",
    "        image_name = self.image_ids.iloc[idx]\n",
    "        image_path = os.path.join(self.img_dir, image_name)\n",
    "        image = Image.open(image_path).convert(\"RGB\")\n",
    "        if self.transform:\n",
    "            image = self.transform(image)\n",
    "\n",
    "        attr_row = self.attrs.loc[image_name]\n",
    "        prompt = attributes_to_prompt(attr_row)\n",
    "\n",
    "        return image, prompt"
   ]
  },
  {
   "cell_type": "code",
   "execution_count": null,
   "metadata": {},
   "outputs": [],
   "source": [
    "class CLIPTextEmbedder(nn.Module):\n",
    "    def __init__(self, device):\n",
    "        super().__init__()\n",
    "        self.tokenizer = CLIPTokenizer.from_pretrained(\"openai/clip-vit-base-patch32\")\n",
    "        self.text_model = CLIPTextModel.from_pretrained(\"openai/clip-vit-base-patch32\").to(device)\n",
    "\n",
    "    def forward(self, prompts):\n",
    "        inputs = self.tokenizer(prompts, return_tensors=\"pt\", padding=True, truncation=True).to(self.text_model.device)\n",
    "        with torch.no_grad():\n",
    "            outputs = self.text_model(**inputs)\n",
    "        return outputs.last_hidden_state[:, 0, :]"
   ]
  },
  {
   "cell_type": "code",
   "execution_count": null,
   "metadata": {},
   "outputs": [],
   "source": [
    "import torch\n",
    "import torch.nn as nn\n",
    "\n",
    "class ResidualBlock(nn.Module):\n",
    "    def __init__(self, channels):\n",
    "        super().__init__()\n",
    "        self.conv = nn.Sequential(\n",
    "            nn.Conv2d(channels, channels, 3, padding=1),\n",
    "            nn.ReLU(),\n",
    "            nn.Conv2d(channels, channels, 3, padding=1)\n",
    "        )\n",
    "\n",
    "    def forward(self, x):\n",
    "        return x + self.conv(x)\n",
    "\n",
    "class EnhancedUNet(nn.Module):\n",
    "    def __init__(self, text_embed_dim=512):\n",
    "        super().__init__()\n",
    "        self.time_embed = nn.Sequential(\n",
    "            nn.Linear(1, 128), nn.ReLU(), nn.Linear(128, 128)\n",
    "        )\n",
    "\n",
    "        self.text_proj_d1 = nn.Conv2d(text_embed_dim, 64, 1)\n",
    "        self.text_proj_d2 = nn.Conv2d(text_embed_dim, 128, 1)\n",
    "\n",
    "        self.down1 = nn.Sequential(\n",
    "            nn.Conv2d(3, 64, 3, padding=1),\n",
    "            nn.ReLU(),\n",
    "            ResidualBlock(64),\n",
    "        )\n",
    "        self.pool1 = nn.MaxPool2d(2)\n",
    "\n",
    "        self.down2 = nn.Sequential(\n",
    "            nn.Conv2d(64, 128, 3, padding=1),\n",
    "            nn.ReLU(),\n",
    "            ResidualBlock(128),\n",
    "        )\n",
    "        self.pool2 = nn.MaxPool2d(2)\n",
    "\n",
    "        self.bottleneck = nn.Sequential(\n",
    "            nn.Conv2d(128, 256, 3, padding=1),\n",
    "            nn.ReLU(),\n",
    "            ResidualBlock(256),\n",
    "        )\n",
    "\n",
    "        self.up2 = nn.Sequential(\n",
    "            nn.ConvTranspose2d(256, 128, 2, stride=2),\n",
    "            nn.ReLU(),\n",
    "            ResidualBlock(128),\n",
    "        )\n",
    "\n",
    "        self.up1 = nn.Sequential(\n",
    "            nn.ConvTranspose2d(128, 64, 2, stride=2),\n",
    "            nn.ReLU(),\n",
    "            ResidualBlock(64),\n",
    "        )\n",
    "\n",
    "        self.output = nn.Conv2d(64, 3, 1)\n",
    "\n",
    "    def forward(self, x, t, text_embedding):\n",
    "        t_embed = self.time_embed(t[:, None]).unsqueeze(-1).unsqueeze(-1)\n",
    "        x = x + t_embed.expand(-1, -1, x.size(2), x.size(3))[:, :3, :, :]\n",
    "\n",
    "        d1 = self.down1(x)\n",
    "        text_map_d1 = self.text_proj_d1(text_embedding[:, :, None, None].expand(-1, -1, d1.shape[2], d1.shape[3]))\n",
    "        d1 = d1 + text_map_d1\n",
    "        p1 = self.pool1(d1)\n",
    "\n",
    "        d2 = self.down2(p1)\n",
    "        text_map_d2 = self.text_proj_d2(text_embedding[:, :, None, None].expand(-1, -1, d2.shape[2], d2.shape[3]))\n",
    "        d2 = d2 + text_map_d2\n",
    "        p2 = self.pool2(d2)\n",
    "\n",
    "        b = self.bottleneck(p2)\n",
    "\n",
    "        u2 = self.up2(b) + d2\n",
    "        u1 = self.up1(u2) + d1\n",
    "\n",
    "        return self.output(u1)"
   ]
  },
  {
   "cell_type": "code",
   "execution_count": 7,
   "metadata": {},
   "outputs": [],
   "source": [
    "class Diffusion:\n",
    "    def __init__(self, timesteps=1000, beta_start=1e-4, beta_end=0.02):\n",
    "        self.timesteps = timesteps\n",
    "        self.beta = torch.linspace(beta_start, beta_end, timesteps).to(torch.float32)\n",
    "        self.alpha = 1. - self.beta\n",
    "        self.alpha_bar = torch.cumprod(self.alpha, dim=0)\n",
    "\n",
    "    def noise_image(self, x0, t):\n",
    "        noise = torch.randn_like(x0)\n",
    "        t_cpu = t.detach().cpu()\n",
    "        sqrt_alpha_bar = self.alpha_bar[t_cpu][:, None, None, None].to(x0.device).sqrt()\n",
    "        sqrt_one_minus_alpha_bar = (1 - self.alpha_bar[t_cpu])[:, None, None, None].to(x0.device).sqrt()\n",
    "        return sqrt_alpha_bar * x0 + sqrt_one_minus_alpha_bar * noise, noise"
   ]
  },
  {
   "cell_type": "code",
   "execution_count": 8,
   "metadata": {},
   "outputs": [],
   "source": [
    "def train(model, embedder, diffusion, dataloader, device):\n",
    "    optimizer = torch.optim.Adam(model.parameters(), lr=1e-4)\n",
    "    loss_fn = nn.MSELoss()\n",
    "\n",
    "    for epoch in range(30):\n",
    "        for images, prompts in tqdm(dataloader):\n",
    "            images = images.to(device, non_blocking=True)\n",
    "            t = torch.randint(0, diffusion.timesteps, (images.size(0),), device=device)\n",
    "            noisy_images, noise = diffusion.noise_image(images, t)\n",
    "            text_embeddings = embedder(prompts)\n",
    "\n",
    "            pred_noise = model(noisy_images, t.float() / diffusion.timesteps, text_embeddings)\n",
    "            loss = loss_fn(pred_noise, noise)\n",
    "\n",
    "            optimizer.zero_grad()\n",
    "            loss.backward()\n",
    "            optimizer.step()\n",
    "\n",
    "        print(f\"Epoch {epoch}: loss = {loss.item():.4f}\")"
   ]
  },
  {
   "cell_type": "code",
   "execution_count": 9,
   "metadata": {},
   "outputs": [],
   "source": [
    "@torch.no_grad()\n",
    "def generate_with_cfg(model, embedder, diffusion, prompt, device, guidance_scale=10.0):\n",
    "    model.eval()\n",
    "    embedder.eval()\n",
    "    cond = embedder([prompt])\n",
    "    uncond = embedder([\"\"])\n",
    "    x = torch.randn(1, 3, 64, 64).to(device)\n",
    "\n",
    "    for t in reversed(range(diffusion.timesteps)):\n",
    "        t_tensor = torch.full((1,), t, device=device).float() / diffusion.timesteps\n",
    "        cond_pred = model(x, t_tensor, cond)\n",
    "        uncond_pred = model(x, t_tensor, uncond)\n",
    "        pred_noise = uncond_pred + guidance_scale * (cond_pred - uncond_pred)\n",
    "\n",
    "        alpha = diffusion.alpha[t].to(device)\n",
    "        alpha_bar = diffusion.alpha_bar[t].to(device)\n",
    "        beta = diffusion.beta[t].to(device)\n",
    "\n",
    "        x = (1 / alpha.sqrt()) * (x - ((1 - alpha) / (1 - alpha_bar).sqrt()) * pred_noise)\n",
    "        if t > 0:\n",
    "            x += beta.sqrt() * torch.randn_like(x)\n",
    "\n",
    "    return x"
   ]
  },
  {
   "cell_type": "code",
   "execution_count": 11,
   "metadata": {},
   "outputs": [],
   "source": [
    "def show_image(img_tensor):\n",
    "    img = img_tensor.cpu().squeeze(0)\n",
    "    img = (img + 1) / 2\n",
    "    grid = make_grid(img)\n",
    "    plt.imshow(grid.permute(1, 2, 0).numpy())\n",
    "    plt.axis('off')\n",
    "    plt.show()"
   ]
  },
  {
   "cell_type": "code",
   "execution_count": 12,
   "metadata": {},
   "outputs": [
    {
     "name": "stderr",
     "output_type": "stream",
     "text": [
      "<>:12: SyntaxWarning: invalid escape sequence '\\i'\n",
      "<>:13: SyntaxWarning: invalid escape sequence '\\l'\n",
      "<>:14: SyntaxWarning: invalid escape sequence '\\l'\n",
      "<>:12: SyntaxWarning: invalid escape sequence '\\i'\n",
      "<>:13: SyntaxWarning: invalid escape sequence '\\l'\n",
      "<>:14: SyntaxWarning: invalid escape sequence '\\l'\n",
      "C:\\Users\\sahas\\AppData\\Local\\Temp\\ipykernel_9528\\2054394453.py:12: SyntaxWarning: invalid escape sequence '\\i'\n",
      "  img_dir=\"Celeb\\img_align_celeba\\img_align_celeba\",\n",
      "C:\\Users\\sahas\\AppData\\Local\\Temp\\ipykernel_9528\\2054394453.py:13: SyntaxWarning: invalid escape sequence '\\l'\n",
      "  attr_path=\"Celeb\\list_attr_celeba.csv\",\n",
      "C:\\Users\\sahas\\AppData\\Local\\Temp\\ipykernel_9528\\2054394453.py:14: SyntaxWarning: invalid escape sequence '\\l'\n",
      "  split_path=\"Celeb\\list_eval_partition.csv\",\n",
      "100%|██████████| 469/469 [06:04<00:00,  1.29it/s]\n"
     ]
    },
    {
     "name": "stdout",
     "output_type": "stream",
     "text": [
      "Epoch 0: loss = 0.1718\n"
     ]
    },
    {
     "name": "stderr",
     "output_type": "stream",
     "text": [
      "100%|██████████| 469/469 [02:33<00:00,  3.05it/s]\n"
     ]
    },
    {
     "name": "stdout",
     "output_type": "stream",
     "text": [
      "Epoch 1: loss = 0.1516\n"
     ]
    },
    {
     "name": "stderr",
     "output_type": "stream",
     "text": [
      "100%|██████████| 469/469 [03:57<00:00,  1.97it/s]\n"
     ]
    },
    {
     "name": "stdout",
     "output_type": "stream",
     "text": [
      "Epoch 2: loss = 0.0998\n"
     ]
    },
    {
     "name": "stderr",
     "output_type": "stream",
     "text": [
      "100%|██████████| 469/469 [02:17<00:00,  3.41it/s]\n"
     ]
    },
    {
     "name": "stdout",
     "output_type": "stream",
     "text": [
      "Epoch 3: loss = 0.1078\n"
     ]
    },
    {
     "name": "stderr",
     "output_type": "stream",
     "text": [
      "100%|██████████| 469/469 [02:24<00:00,  3.25it/s]\n"
     ]
    },
    {
     "name": "stdout",
     "output_type": "stream",
     "text": [
      "Epoch 4: loss = 0.0853\n"
     ]
    },
    {
     "name": "stderr",
     "output_type": "stream",
     "text": [
      "100%|██████████| 469/469 [02:15<00:00,  3.47it/s]\n"
     ]
    },
    {
     "name": "stdout",
     "output_type": "stream",
     "text": [
      "Epoch 5: loss = 0.0735\n"
     ]
    },
    {
     "name": "stderr",
     "output_type": "stream",
     "text": [
      "100%|██████████| 469/469 [02:13<00:00,  3.50it/s]\n"
     ]
    },
    {
     "name": "stdout",
     "output_type": "stream",
     "text": [
      "Epoch 6: loss = 0.0665\n"
     ]
    },
    {
     "name": "stderr",
     "output_type": "stream",
     "text": [
      "100%|██████████| 469/469 [02:19<00:00,  3.37it/s]\n"
     ]
    },
    {
     "name": "stdout",
     "output_type": "stream",
     "text": [
      "Epoch 7: loss = 0.0756\n"
     ]
    },
    {
     "name": "stderr",
     "output_type": "stream",
     "text": [
      "100%|██████████| 469/469 [02:17<00:00,  3.40it/s]\n"
     ]
    },
    {
     "name": "stdout",
     "output_type": "stream",
     "text": [
      "Epoch 8: loss = 0.0760\n"
     ]
    },
    {
     "name": "stderr",
     "output_type": "stream",
     "text": [
      "100%|██████████| 469/469 [02:16<00:00,  3.44it/s]\n"
     ]
    },
    {
     "name": "stdout",
     "output_type": "stream",
     "text": [
      "Epoch 9: loss = 0.0674\n"
     ]
    },
    {
     "name": "stderr",
     "output_type": "stream",
     "text": [
      "100%|██████████| 469/469 [02:14<00:00,  3.50it/s]\n"
     ]
    },
    {
     "name": "stdout",
     "output_type": "stream",
     "text": [
      "Epoch 10: loss = 0.0591\n"
     ]
    },
    {
     "name": "stderr",
     "output_type": "stream",
     "text": [
      "100%|██████████| 469/469 [02:15<00:00,  3.45it/s]\n"
     ]
    },
    {
     "name": "stdout",
     "output_type": "stream",
     "text": [
      "Epoch 11: loss = 0.0865\n"
     ]
    },
    {
     "name": "stderr",
     "output_type": "stream",
     "text": [
      "100%|██████████| 469/469 [02:16<00:00,  3.44it/s]\n"
     ]
    },
    {
     "name": "stdout",
     "output_type": "stream",
     "text": [
      "Epoch 12: loss = 0.0561\n"
     ]
    },
    {
     "name": "stderr",
     "output_type": "stream",
     "text": [
      "100%|██████████| 469/469 [02:15<00:00,  3.45it/s]\n"
     ]
    },
    {
     "name": "stdout",
     "output_type": "stream",
     "text": [
      "Epoch 13: loss = 0.0586\n"
     ]
    },
    {
     "name": "stderr",
     "output_type": "stream",
     "text": [
      "100%|██████████| 469/469 [02:16<00:00,  3.44it/s]\n"
     ]
    },
    {
     "name": "stdout",
     "output_type": "stream",
     "text": [
      "Epoch 14: loss = 0.0326\n"
     ]
    },
    {
     "name": "stderr",
     "output_type": "stream",
     "text": [
      "100%|██████████| 469/469 [02:13<00:00,  3.50it/s]\n"
     ]
    },
    {
     "name": "stdout",
     "output_type": "stream",
     "text": [
      "Epoch 15: loss = 0.0486\n"
     ]
    },
    {
     "name": "stderr",
     "output_type": "stream",
     "text": [
      "100%|██████████| 469/469 [02:12<00:00,  3.54it/s]\n"
     ]
    },
    {
     "name": "stdout",
     "output_type": "stream",
     "text": [
      "Epoch 16: loss = 0.0718\n"
     ]
    },
    {
     "name": "stderr",
     "output_type": "stream",
     "text": [
      "100%|██████████| 469/469 [02:13<00:00,  3.51it/s]\n"
     ]
    },
    {
     "name": "stdout",
     "output_type": "stream",
     "text": [
      "Epoch 17: loss = 0.0622\n"
     ]
    },
    {
     "name": "stderr",
     "output_type": "stream",
     "text": [
      "100%|██████████| 469/469 [02:12<00:00,  3.53it/s]\n"
     ]
    },
    {
     "name": "stdout",
     "output_type": "stream",
     "text": [
      "Epoch 18: loss = 0.0825\n"
     ]
    },
    {
     "name": "stderr",
     "output_type": "stream",
     "text": [
      "100%|██████████| 469/469 [02:13<00:00,  3.50it/s]\n"
     ]
    },
    {
     "name": "stdout",
     "output_type": "stream",
     "text": [
      "Epoch 19: loss = 0.0516\n"
     ]
    },
    {
     "name": "stderr",
     "output_type": "stream",
     "text": [
      "100%|██████████| 469/469 [02:17<00:00,  3.40it/s]\n"
     ]
    },
    {
     "name": "stdout",
     "output_type": "stream",
     "text": [
      "Epoch 20: loss = 0.0805\n"
     ]
    },
    {
     "name": "stderr",
     "output_type": "stream",
     "text": [
      "100%|██████████| 469/469 [02:12<00:00,  3.54it/s]\n"
     ]
    },
    {
     "name": "stdout",
     "output_type": "stream",
     "text": [
      "Epoch 21: loss = 0.0629\n"
     ]
    },
    {
     "name": "stderr",
     "output_type": "stream",
     "text": [
      "100%|██████████| 469/469 [02:16<00:00,  3.44it/s]\n"
     ]
    },
    {
     "name": "stdout",
     "output_type": "stream",
     "text": [
      "Epoch 22: loss = 0.0634\n"
     ]
    },
    {
     "name": "stderr",
     "output_type": "stream",
     "text": [
      "100%|██████████| 469/469 [02:15<00:00,  3.46it/s]\n"
     ]
    },
    {
     "name": "stdout",
     "output_type": "stream",
     "text": [
      "Epoch 23: loss = 0.0572\n"
     ]
    },
    {
     "name": "stderr",
     "output_type": "stream",
     "text": [
      "100%|██████████| 469/469 [02:15<00:00,  3.46it/s]\n"
     ]
    },
    {
     "name": "stdout",
     "output_type": "stream",
     "text": [
      "Epoch 24: loss = 0.0490\n"
     ]
    },
    {
     "name": "stderr",
     "output_type": "stream",
     "text": [
      "100%|██████████| 469/469 [02:13<00:00,  3.51it/s]\n"
     ]
    },
    {
     "name": "stdout",
     "output_type": "stream",
     "text": [
      "Epoch 25: loss = 0.0593\n"
     ]
    },
    {
     "name": "stderr",
     "output_type": "stream",
     "text": [
      "100%|██████████| 469/469 [02:18<00:00,  3.38it/s]\n"
     ]
    },
    {
     "name": "stdout",
     "output_type": "stream",
     "text": [
      "Epoch 26: loss = 0.0692\n"
     ]
    },
    {
     "name": "stderr",
     "output_type": "stream",
     "text": [
      "100%|██████████| 469/469 [02:13<00:00,  3.52it/s]\n"
     ]
    },
    {
     "name": "stdout",
     "output_type": "stream",
     "text": [
      "Epoch 27: loss = 0.0703\n"
     ]
    },
    {
     "name": "stderr",
     "output_type": "stream",
     "text": [
      "100%|██████████| 469/469 [02:19<00:00,  3.35it/s]\n"
     ]
    },
    {
     "name": "stdout",
     "output_type": "stream",
     "text": [
      "Epoch 28: loss = 0.0542\n"
     ]
    },
    {
     "name": "stderr",
     "output_type": "stream",
     "text": [
      "100%|██████████| 469/469 [02:20<00:00,  3.34it/s]\n"
     ]
    },
    {
     "name": "stdout",
     "output_type": "stream",
     "text": [
      "Epoch 29: loss = 0.0420\n"
     ]
    },
    {
     "name": "stderr",
     "output_type": "stream",
     "text": [
      "Clipping input data to the valid range for imshow with RGB data ([0..1] for floats or [0..255] for integers). Got range [-0.048800945..0.97084785].\n"
     ]
    },
    {
     "data": {
      "image/png": "[encoded data removed]",
      "text/plain": [
       "<Figure size 640x480 with 1 Axes>"
      ]
     },
     "metadata": {},
     "output_type": "display_data"
    }
   ],
   "source": [
    "if __name__ == \"__main__\":\n",
    "    device = torch.device(\"cuda\" if torch.cuda.is_available() else \"cpu\")\n",
    "\n",
    "    transform = transforms.Compose([\n",
    "        transforms.Resize(64),\n",
    "        transforms.CenterCrop(64),\n",
    "        transforms.ToTensor(),\n",
    "        transforms.Normalize([0.5]*3, [0.5]*3)\n",
    "    ])\n",
    "\n",
    "    dataset = CelebAText2ImageDataset(\n",
    "        img_dir=\"Celeb\\img_align_celeba\\img_align_celeba\",\n",
    "        attr_path=\"Celeb\\list_attr_celeba.csv\",\n",
    "        split_path=\"Celeb\\list_eval_partition.csv\",\n",
    "        split=\"train\",\n",
    "        transform=transform\n",
    "    )\n",
    "\n",
    "    dataset = torch.utils.data.Subset(dataset, range(30000))\n",
    "\n",
    "    dataloader = DataLoader(dataset, batch_size=64, shuffle=True)\n",
    "\n",
    "    model = EnhancedUNet().to(device)\n",
    "    embedder = CLIPTextEmbedder(device)\n",
    "    diffusion = Diffusion(timesteps=200)\n",
    "\n",
    "    train(model, embedder, diffusion, dataloader, device)\n",
    "\n",
    "    prompt = \"smiling woman with brown hair and eyeglasses\"\n",
    "    generated = generate_with_cfg(model, embedder, diffusion, prompt, device)\n",
    "    show_image(generated)"
   ]
  }
 ],
 "metadata": {
  "kernelspec": {
   "display_name": "base",
   "language": "python",
   "name": "python3"
  },
  "language_info": {
   "codemirror_mode": {
    "name": "ipython",
    "version": 3
   },
   "file_extension": ".py",
   "mimetype": "text/x-python",
   "name": "python",
   "nbconvert_exporter": "python",
   "pygments_lexer": "ipython3",
   "version": "3.12.7"
  }
 },
 "nbformat": 4,
 "nbformat_minor": 2
}
